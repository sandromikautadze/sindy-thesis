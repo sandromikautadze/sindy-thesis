{
 "cells": [
  {
   "cell_type": "markdown",
   "metadata": {},
   "source": [
    "# SINDy From Scratch"
   ]
  },
  {
   "cell_type": "markdown",
   "metadata": {},
   "source": [
    "The goal of this file is to implement the algorithm from scratch, applied to the Lorenz system to reproduce the result of the paper. The optimization algorithm is sequential thresholding with threshold parameter $\\alpha=0.05$."
   ]
  },
  {
   "cell_type": "code",
   "execution_count": 1,
   "metadata": {},
   "outputs": [],
   "source": [
    "import numpy as np\n",
    "from scipy.integrate import solve_ivp"
   ]
  },
  {
   "cell_type": "markdown",
   "metadata": {},
   "source": [
    "# Generate Data"
   ]
  },
  {
   "cell_type": "code",
   "execution_count": 2,
   "metadata": {},
   "outputs": [],
   "source": [
    "# generate data\n",
    "\n",
    "def lorenz(t, x, sigma=10, beta=8/3, rho=28):\n",
    "    \"\"\"\n",
    "    Lorenz system data\n",
    "\n",
    "    Args:\n",
    "        x (array): Data\n",
    "        sigma (float, optional): Parameter. Defaults to 10.\n",
    "        beta (float, optional): Parameter. Defaults to 8/3.\n",
    "        rho (float, optional): Parameter. Defaults to 28.\n",
    "\n",
    "    Returns:\n",
    "        array: Lorenz system data\n",
    "    \"\"\"\n",
    "    return [sigma * (x[1] - x[0]), x[0] * (rho - x[2]) - x[1], x[0] * x[1] - beta * x[2]]\n",
    "\n",
    "x0 = [-8, 7, 27]\n",
    "delta_t= 0.001\n",
    "t = np.arange(0, 100, delta_t)\n",
    "x = solve_ivp(lorenz, t_span = (t[0], t[-1]), y0 = x0, t_eval=t, rtol = 1e-12, method = \"LSODA\", atol = 1e-12).y.T"
   ]
  },
  {
   "cell_type": "code",
   "execution_count": 3,
   "metadata": {},
   "outputs": [
    {
     "data": {
      "text/plain": [
       "array([[-8.        ,  7.        , 27.        ],\n",
       "       [-7.85082366,  6.98457872, 26.87275344],\n",
       "       [-7.70328918,  6.9683473 , 26.74700466],\n",
       "       [-7.55738803,  6.95135327, 26.62273958],\n",
       "       [-7.41311133,  6.93364275, 26.49994362]])"
      ]
     },
     "execution_count": 3,
     "metadata": {},
     "output_type": "execute_result"
    }
   ],
   "source": [
    "x[:5]"
   ]
  },
  {
   "cell_type": "code",
   "execution_count": 4,
   "metadata": {},
   "outputs": [
    {
     "data": {
      "text/plain": [
       "array([[ 150.        ,  -15.        , -128.        ],\n",
       "       [ 148.35402387,  -15.83439269, -126.49537176],\n",
       "       [ 146.71636478,  -16.62053277, -125.0045401 ],\n",
       "       [ 145.08741298,  -17.35984468, -123.52804619],\n",
       "       [ 143.46754079,  -18.05372769, -122.06638194]])"
      ]
     },
     "execution_count": 4,
     "metadata": {},
     "output_type": "execute_result"
    }
   ],
   "source": [
    "# derivative \n",
    "x_dot = np.array([lorenz(0, x[t]) for t in range(t.size)]) # X'\n",
    "x_dot[:5]"
   ]
  },
  {
   "cell_type": "markdown",
   "metadata": {},
   "source": [
    "# Functions for the Algorithm"
   ]
  },
  {
   "cell_type": "code",
   "execution_count": 5,
   "metadata": {},
   "outputs": [],
   "source": [
    "def SparseRegression(library, derivative, n, alpha = 0.1, max_iter = 20):\n",
    "    \"\"\"\n",
    "    Computes sparse optimization via least-squares using sequential thresholding\n",
    "\n",
    "    Args:\n",
    "        library (array_like): A matrix representing the library used to model the dynamics\n",
    "        derivative (array_like): A matrix representing the time derivatives of the state variable x\n",
    "        n (int): The dimensionality of the state variable x\n",
    "        alpha (float, optional): Threshold parameter to cut-off coefficients to 0. Defaults to 0.1.\n",
    "        max_iter (int, optional): Number of sequential least-squares to compute. Defaults to 20.\n",
    "\n",
    "    Returns:\n",
    "        coeff (ndarray): Coefficients xi\n",
    "    \"\"\"\n",
    "    \n",
    "    if alpha < 0 or n < 0 or max_iter < 0:\n",
    "        raise ValueError(\"Negative input not accepted\")\n",
    "    \n",
    "    coeff = np.linalg.lstsq(library, derivative, rcond=None)[0] # least-square, no sparse\n",
    "    \n",
    "    for i in range(max_iter): # remove small coefficients\n",
    "        small_coeff_bool = np.abs(coeff) < alpha # 0 if >=alpha, 1 if < alpha\n",
    "        coeff[small_coeff_bool] = 0\n",
    "        for k in range(n): # iterate on each state dimension\n",
    "            big_coeff_bool = small_coeff_bool[:, k] == 0 # column of current dimension that has non-small coefficients\n",
    "            coeff[big_coeff_bool, k] = np.linalg.lstsq(library[:, big_coeff_bool], derivative[:, k], rcond=None)[0] # update non-small coeff on new least-squares \n",
    "    \n",
    "    return coeff"
   ]
  },
  {
   "cell_type": "code",
   "execution_count": 6,
   "metadata": {},
   "outputs": [],
   "source": [
    "def generatePolyLibrary(x_in, n, poly_order=3):\n",
    "    \"\"\"\n",
    "    Generates the library matrix from data, with polynomial (very inefficiently, but it works) of order 3.\n",
    "\n",
    "    Args:\n",
    "        x_in (array_like): Input data\n",
    "        n (int): Number of variables in the input data x\n",
    "        poly_order (int): Maximum polynomial order for feature generation. Defaults to 3.\n",
    "        \n",
    "    Returns:\n",
    "        theta: Expanded data according to the library matrix\n",
    "    \"\"\"\n",
    "    \n",
    "    m = x_in.shape[0]\n",
    "    p = 1 + n + (n * (n + 1) // 2) + (n * (n + 1) * (n + 2) // (2 * 3)) + 11 # found in the code of the library (3rd order poly)\n",
    "    theta = np.zeros((m,p)) # library initialized as empty\n",
    "    \n",
    "    # order 0 (constants)\n",
    "    column_p = 0\n",
    "    theta[:, column_p] = np.ones(m)\n",
    "    \n",
    "    # order 1 (linear)\n",
    "    column_p = 1\n",
    "    for i in range(n):\n",
    "        theta[:, column_p] = x_in[:, i]\n",
    "        column_p += 1\n",
    "        \n",
    "    if poly_order >= 2: # order 2 (quadratic)\n",
    "        for i in range(n):\n",
    "            for j in range(i, n):\n",
    "                theta[:, column_p] = x_in[:, i] * x_in[:, j] # i and j columns of input\n",
    "                column_p += 1\n",
    "    if poly_order >= 3: # order 3 (cubic)\n",
    "        for i in range(n):\n",
    "            for j in range(i, n):\n",
    "                for k in range(j, n):\n",
    "                    theta[:, column_p] = x_in[:, i] * x_in[:, j] * x_in[:, k]\n",
    "                    column_p += 1\n",
    "    \n",
    "    return theta"
   ]
  },
  {
   "cell_type": "markdown",
   "metadata": {},
   "source": [
    "# Algorithm"
   ]
  },
  {
   "cell_type": "code",
   "execution_count": 7,
   "metadata": {},
   "outputs": [],
   "source": [
    "poly_lib = generatePolyLibrary(x_in=x, n=x.shape[1], poly_order=3) # thetha\n",
    "coefficients = SparseRegression(library=poly_lib, derivative=x_dot, n=x.shape[1], alpha=0.05, max_iter=20)"
   ]
  },
  {
   "cell_type": "code",
   "execution_count": 8,
   "metadata": {},
   "outputs": [
    {
     "data": {
      "text/plain": [
       "array([[  0.        ,   0.        ,   0.        ],\n",
       "       [-10.        ,  28.        ,   0.        ],\n",
       "       [ 10.        ,  -1.        ,   0.        ],\n",
       "       [  0.        ,   0.        ,  -2.66666667],\n",
       "       [  0.        ,   0.        ,   0.        ],\n",
       "       [  0.        ,   0.        ,   1.        ],\n",
       "       [  0.        ,  -1.        ,   0.        ],\n",
       "       [  0.        ,   0.        ,   0.        ],\n",
       "       [  0.        ,   0.        ,   0.        ],\n",
       "       [  0.        ,   0.        ,   0.        ],\n",
       "       [  0.        ,   0.        ,   0.        ],\n",
       "       [  0.        ,   0.        ,   0.        ],\n",
       "       [  0.        ,   0.        ,   0.        ],\n",
       "       [  0.        ,   0.        ,   0.        ],\n",
       "       [  0.        ,   0.        ,   0.        ],\n",
       "       [  0.        ,   0.        ,   0.        ],\n",
       "       [  0.        ,   0.        ,   0.        ],\n",
       "       [  0.        ,   0.        ,   0.        ],\n",
       "       [  0.        ,   0.        ,   0.        ],\n",
       "       [  0.        ,   0.        ,   0.        ],\n",
       "       [  0.        ,   0.        ,   0.        ],\n",
       "       [  0.        ,   0.        ,   0.        ],\n",
       "       [  0.        ,   0.        ,   0.        ],\n",
       "       [  0.        ,   0.        ,   0.        ],\n",
       "       [  0.        ,   0.        ,   0.        ],\n",
       "       [  0.        ,   0.        ,   0.        ],\n",
       "       [  0.        ,   0.        ,   0.        ],\n",
       "       [  0.        ,   0.        ,   0.        ],\n",
       "       [  0.        ,   0.        ,   0.        ],\n",
       "       [  0.        ,   0.        ,   0.        ],\n",
       "       [  0.        ,   0.        ,   0.        ]])"
      ]
     },
     "execution_count": 8,
     "metadata": {},
     "output_type": "execute_result"
    }
   ],
   "source": [
    "coefficients"
   ]
  },
  {
   "cell_type": "markdown",
   "metadata": {},
   "source": [
    "The columns correspond to $x', y'$ and $z'$ respectively. The rows are the candidate functions, so $1,x,y,z,x^2,xy,\\dots, z^3$. The model is identified correctly."
   ]
  },
  {
   "cell_type": "markdown",
   "metadata": {},
   "source": [
    "# Further Analysis"
   ]
  },
  {
   "cell_type": "code",
   "execution_count": 9,
   "metadata": {},
   "outputs": [],
   "source": [
    "def SparseRegression_lens(library, derivative, n, alpha=0.1, max_iter=20):\n",
    "    \"\"\"\n",
    "    Just like SparseRegression, but stops as soon as the \n",
    "    It's called lens, because it's a zoomed in version of the original function, so we can interpret the results at each iteration\n",
    "    \"\"\"\n",
    "     \n",
    "    if alpha < 0 or n < 0 or max_iter < 0:\n",
    "        raise ValueError(\"Negative input not accepted\")\n",
    "    \n",
    "    coeff = np.linalg.lstsq(library, derivative, rcond=None)[0]\n",
    "    \n",
    "    print(\"Iteration 0 Coefficients:\")\n",
    "    print(coeff)\n",
    "    \n",
    "    for i in range(max_iter):  # remove small coefficients\n",
    "        small_coeff_bool = np.abs(coeff) < alpha  # 0 if >= alpha, 1 if < alpha\n",
    "        coeff[small_coeff_bool] = 0\n",
    "        \n",
    "        if np.allclose(coeff, coefficients): # allclose (and not ==) to avoid floating point issues\n",
    "            print(f\"Model identified correctly at iteration {i+1}, with coefficients:\")\n",
    "            return coeff\n",
    "        \n",
    "        for k in range(n):  # iterate on each state dimension\n",
    "            big_coeff_bool = small_coeff_bool[:, k] == 0  # column of current dimension that has non-small coefficients\n",
    "            coeff[big_coeff_bool, k] = np.linalg.lstsq(library[:, big_coeff_bool], derivative[:, k], rcond=None)[0]  # update non-small coeff on new least-squares\n"
   ]
  },
  {
   "cell_type": "code",
   "execution_count": 10,
   "metadata": {},
   "outputs": [
    {
     "name": "stdout",
     "output_type": "stream",
     "text": [
      "Iteration 0 Coefficients:\n",
      "[[ 5.12738858e-11 -1.31050908e-10  1.06062366e-12]\n",
      " [-1.00000000e+01  2.80000000e+01  4.14157583e-13]\n",
      " [ 1.00000000e+01 -1.00000000e+00 -2.65894010e-13]\n",
      " [-9.34973245e-13  1.44298645e-12 -2.66666667e+00]\n",
      " [-8.35851631e-14 -4.17706715e-13 -2.24261201e-15]\n",
      " [ 1.78843931e-13  3.07801095e-13  1.00000000e+00]\n",
      " [ 1.10330681e-14 -1.00000000e+00  2.21104838e-14]\n",
      " [-4.37680507e-14 -6.69358687e-14  3.59716548e-15]\n",
      " [ 2.41228561e-16  2.69059881e-15 -9.78778254e-15]\n",
      " [ 1.58704798e-16 -5.17621457e-15 -3.19559177e-16]\n",
      " [-3.10650439e-15 -3.15501089e-15  5.57837180e-15]\n",
      " [ 3.55938138e-15  2.22237429e-15 -4.00199413e-15]\n",
      " [ 2.47563825e-15  3.21037879e-15  6.03858218e-16]\n",
      " [-1.43760877e-15 -5.35461342e-16  9.79464121e-17]\n",
      " [-3.35027112e-15 -2.37357051e-15  2.43319775e-16]\n",
      " [-4.28449398e-16  6.55938406e-16 -1.45051695e-15]\n",
      " [-6.18266109e-17 -1.96835661e-16  5.97053068e-16]\n",
      " [ 1.01524002e-15 -1.54182984e-15 -6.41578363e-16]\n",
      " [ 2.68268631e-16  8.93491543e-16 -2.98334978e-17]\n",
      " [ 6.23269594e-16 -2.22438587e-15 -3.67344798e-17]\n",
      " [ 0.00000000e+00  0.00000000e+00  0.00000000e+00]\n",
      " [ 0.00000000e+00  0.00000000e+00  0.00000000e+00]\n",
      " [ 0.00000000e+00  0.00000000e+00  0.00000000e+00]\n",
      " [ 0.00000000e+00  0.00000000e+00  0.00000000e+00]\n",
      " [ 0.00000000e+00  0.00000000e+00  0.00000000e+00]\n",
      " [ 0.00000000e+00  0.00000000e+00  0.00000000e+00]\n",
      " [ 0.00000000e+00  0.00000000e+00  0.00000000e+00]\n",
      " [ 0.00000000e+00  0.00000000e+00  0.00000000e+00]\n",
      " [ 0.00000000e+00  0.00000000e+00  0.00000000e+00]\n",
      " [ 0.00000000e+00  0.00000000e+00  0.00000000e+00]\n",
      " [ 0.00000000e+00  0.00000000e+00  0.00000000e+00]]\n",
      "Model identified correctly at iteration 1, with coefficients:\n"
     ]
    },
    {
     "data": {
      "text/plain": [
       "array([[  0.        ,   0.        ,   0.        ],\n",
       "       [-10.        ,  28.        ,   0.        ],\n",
       "       [ 10.        ,  -1.        ,   0.        ],\n",
       "       [  0.        ,   0.        ,  -2.66666667],\n",
       "       [  0.        ,   0.        ,   0.        ],\n",
       "       [  0.        ,   0.        ,   1.        ],\n",
       "       [  0.        ,  -1.        ,   0.        ],\n",
       "       [  0.        ,   0.        ,   0.        ],\n",
       "       [  0.        ,   0.        ,   0.        ],\n",
       "       [  0.        ,   0.        ,   0.        ],\n",
       "       [  0.        ,   0.        ,   0.        ],\n",
       "       [  0.        ,   0.        ,   0.        ],\n",
       "       [  0.        ,   0.        ,   0.        ],\n",
       "       [  0.        ,   0.        ,   0.        ],\n",
       "       [  0.        ,   0.        ,   0.        ],\n",
       "       [  0.        ,   0.        ,   0.        ],\n",
       "       [  0.        ,   0.        ,   0.        ],\n",
       "       [  0.        ,   0.        ,   0.        ],\n",
       "       [  0.        ,   0.        ,   0.        ],\n",
       "       [  0.        ,   0.        ,   0.        ],\n",
       "       [  0.        ,   0.        ,   0.        ],\n",
       "       [  0.        ,   0.        ,   0.        ],\n",
       "       [  0.        ,   0.        ,   0.        ],\n",
       "       [  0.        ,   0.        ,   0.        ],\n",
       "       [  0.        ,   0.        ,   0.        ],\n",
       "       [  0.        ,   0.        ,   0.        ],\n",
       "       [  0.        ,   0.        ,   0.        ],\n",
       "       [  0.        ,   0.        ,   0.        ],\n",
       "       [  0.        ,   0.        ,   0.        ],\n",
       "       [  0.        ,   0.        ,   0.        ],\n",
       "       [  0.        ,   0.        ,   0.        ]])"
      ]
     },
     "execution_count": 10,
     "metadata": {},
     "output_type": "execute_result"
    }
   ],
   "source": [
    "coefficients_lens = SparseRegression_lens(library=poly_lib, derivative=x_dot, n=x.shape[1], alpha=0.05, max_iter=20)\n",
    "coefficients_lens"
   ]
  },
  {
   "cell_type": "markdown",
   "metadata": {},
   "source": [
    "So the right model is identified with just one iteration of the sequential thresholded least-squares algorithm!"
   ]
  }
 ],
 "metadata": {
  "kernelspec": {
   "display_name": "sindy",
   "language": "python",
   "name": "python3"
  },
  "language_info": {
   "codemirror_mode": {
    "name": "ipython",
    "version": 3
   },
   "file_extension": ".py",
   "mimetype": "text/x-python",
   "name": "python",
   "nbconvert_exporter": "python",
   "pygments_lexer": "ipython3",
   "version": "3.11.6"
  }
 },
 "nbformat": 4,
 "nbformat_minor": 2
}
