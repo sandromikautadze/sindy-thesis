{
 "cells": [
  {
   "cell_type": "markdown",
   "metadata": {},
   "source": [
    "# SINDy From Scratch"
   ]
  },
  {
   "cell_type": "markdown",
   "metadata": {},
   "source": [
    "The goal of this file is to implement the algorithm from scratch, applied to the Lorenz system to reproduce the result of the paper. The optimization algorithm is sequential thresholding with threshold parameter $\\lambda$."
   ]
  },
  {
   "cell_type": "code",
   "execution_count": 1,
   "metadata": {},
   "outputs": [],
   "source": [
    "import numpy as np\n",
    "from scipy.integrate import solve_ivp"
   ]
  },
  {
   "cell_type": "markdown",
   "metadata": {},
   "source": [
    "# Generate Data"
   ]
  },
  {
   "cell_type": "code",
   "execution_count": 2,
   "metadata": {},
   "outputs": [],
   "source": [
    "# generate data\n",
    "\n",
    "def lorenz(t, x, sigma=10, beta=8/3, rho=28):\n",
    "    \"\"\"\n",
    "    Lorenz system data\n",
    "\n",
    "    Args:\n",
    "        x (array): Data\n",
    "        sigma (float, optional): Parameter. Defaults to 10.\n",
    "        beta (float, optional): Parameter. Defaults to 8/3.\n",
    "        rho (float, optional): Parameter. Defaults to 28.\n",
    "\n",
    "    Returns:\n",
    "        array: Lorenz system data\n",
    "    \"\"\"\n",
    "    return [sigma * (x[1] - x[0]), x[0] * (rho - x[2]) - x[1], x[0] * x[1] - beta * x[2]]\n",
    "\n",
    "x0 = [-8, 7, 27]\n",
    "delta_t= 0.001\n",
    "t = np.arange(0, 100, delta_t)\n",
    "x = solve_ivp(lorenz, t_span = (t[0], t[-1]), y0 = x0, t_eval=t, rtol = 1e-12, method = \"LSODA\", atol = 1e-12).y.T"
   ]
  },
  {
   "cell_type": "code",
   "execution_count": 3,
   "metadata": {},
   "outputs": [
    {
     "data": {
      "text/plain": [
       "array([[-8.        ,  7.        , 27.        ],\n",
       "       [-7.85082366,  6.98457872, 26.87275344],\n",
       "       [-7.70328918,  6.9683473 , 26.74700466],\n",
       "       [-7.55738803,  6.95135327, 26.62273958],\n",
       "       [-7.41311133,  6.93364275, 26.49994362]])"
      ]
     },
     "execution_count": 3,
     "metadata": {},
     "output_type": "execute_result"
    }
   ],
   "source": [
    "x[:5]"
   ]
  },
  {
   "cell_type": "code",
   "execution_count": 4,
   "metadata": {},
   "outputs": [
    {
     "data": {
      "text/plain": [
       "array([[ 150.        ,  -15.        , -128.        ],\n",
       "       [ 148.35402387,  -15.83439269, -126.49537176],\n",
       "       [ 146.71636478,  -16.62053277, -125.0045401 ],\n",
       "       [ 145.08741298,  -17.35984468, -123.52804619],\n",
       "       [ 143.46754079,  -18.05372769, -122.06638194]])"
      ]
     },
     "execution_count": 4,
     "metadata": {},
     "output_type": "execute_result"
    }
   ],
   "source": [
    "# derivative \n",
    "x_dot = np.array([lorenz(0, x[t]) for t in range(t.size)]) # X'\n",
    "x_dot[:5]"
   ]
  },
  {
   "cell_type": "markdown",
   "metadata": {},
   "source": [
    "# Functions for the Algorithm"
   ]
  },
  {
   "cell_type": "code",
   "execution_count": 5,
   "metadata": {},
   "outputs": [],
   "source": [
    "def SparseRegression(library, derivative, n, alpha = 0.1, max_iter = 20):\n",
    "    \"\"\"\n",
    "    Computes sparse optimization via least-squares using sequential thresholding\n",
    "\n",
    "    Args:\n",
    "        library (array_like): A matrix representing the library used to model the dynamics\n",
    "        derivative (array_like): A matrix representing the time derivatives of the state variable x\n",
    "        n (int): The dimensionality of the state variable x\n",
    "        alpha (float, optional): Threshold parameter to cut-off coefficients to 0. Defaults to 0.1.\n",
    "        max_iter (int, optional): Number of sequential least-squares to compute. Defaults to 20.\n",
    "\n",
    "    Returns:\n",
    "        coeff (ndarray): Coefficients xi\n",
    "    \"\"\"\n",
    "    \n",
    "    if alpha < 0 or n < 0 or max_iter < 0:\n",
    "        raise ValueError(\"Negative input non accepted\")\n",
    "    \n",
    "    coeff = np.linalg.lstsq(library, derivative, rcond=None)[0] # least-square, no sparse\n",
    "    \n",
    "    for i in range(max_iter): # remove small coefficients\n",
    "        small_coeff_bool = np.abs(coeff) < alpha # 0 if >=lambd, 1 if < lambd\n",
    "        coeff[small_coeff_bool] = 0\n",
    "        for k in range(n): # iterate on each state dimension\n",
    "            big_coeff_bool = small_coeff_bool[:, 0] == 0 # column of current dimension that has non-small coefficients\n",
    "            coeff[big_coeff_bool, k] = np.linalg.lstsq(library[:, big_coeff_bool], derivative[:, k], rcond=None)[0] # update non-small coeff on new least-squares \n",
    "    \n",
    "    return coeff"
   ]
  },
  {
   "cell_type": "code",
   "execution_count": 6,
   "metadata": {},
   "outputs": [],
   "source": [
    "def generatePolyLibrary(x_in, n, poly_order=3):\n",
    "    \"\"\"\n",
    "    Generates the library matrix from data, with polynomial (very inefficiently, but it works). The paper works with poly_order 3.\n",
    "\n",
    "    Args:\n",
    "        x_in (array_like): Input data\n",
    "        n (int): Number of variables in the input data x\n",
    "        poly_order (int): Maximum polynomial order for feature generation. Defaults to 3.\n",
    "        \n",
    "    Returns:\n",
    "        theta: Expanend data according to library matrix\n",
    "    \"\"\"\n",
    "    \n",
    "    m = x_in.shape[0]\n",
    "    p = 1 + n + (n * (n + 1) // 2) + (n * (n + 1) * (n + 2) // (2 * 3)) + 11 # found in the code of the library (3rd order poly)\n",
    "    theta = np.zeros((m,p)) # library initialized as empty\n",
    "    \n",
    "    # order 0 (constants)\n",
    "    column_p = 0\n",
    "    theta[:, column_p] = np.ones(m)\n",
    "    \n",
    "    # order 1 (linear)\n",
    "    column_p = 1\n",
    "    for i in range(n):\n",
    "        theta[:, column_p] = x_in[:, i]\n",
    "        column_p += 1\n",
    "        \n",
    "    if poly_order >= 2: # order 2 (quadratic)\n",
    "        for i in range(n):\n",
    "            for j in range(i, n):\n",
    "                theta[:, column_p] = x_in[:, i] * x_in[:, j] # i and j columns of input\n",
    "                column_p += 1\n",
    "    if poly_order >= 3: # order 3 (cubic)\n",
    "        for i in range(n):\n",
    "            for j in range(i, n):\n",
    "                for k in range(j, n):\n",
    "                    theta[:, column_p] = x_in[:, i] * x_in[:, j] * x_in[:, k]\n",
    "                    column_p += 1\n",
    "    if poly_order >= 4:\n",
    "        for i in range(n):\n",
    "            for j in range(i, n):\n",
    "                for k in range(j, n):\n",
    "                    for l in range(k, n):\n",
    "                        theta[:, column_p] = x_in[:, i] * x_in[:, j] * x_in[:, k] * x_in[:, l]\n",
    "                        column_p += 1\n",
    "    if poly_order >= 5:\n",
    "        for i in range(n):\n",
    "            for j in range(i, n):\n",
    "                for k in range(j, n):\n",
    "                    for l in range(k, n):\n",
    "                        for m in range(l, n):\n",
    "                            theta[:, column_p] = x_in[:, i] * x_in[:, j] * x_in[:, k] * x_in[:, l] * x_in[:, m]\n",
    "                            column_p += 1\n",
    "    \n",
    "    return theta"
   ]
  },
  {
   "cell_type": "markdown",
   "metadata": {},
   "source": [
    "# Algorithm"
   ]
  },
  {
   "cell_type": "code",
   "execution_count": 12,
   "metadata": {},
   "outputs": [],
   "source": [
    "poly_lib = generatePolyLibrary(x_in=x, n=x.shape[1], poly_order=3) # thetha\n",
    "coefficients = SparseRegression(library=poly_lib, derivative=x_dot, n=x.shape[1], alpha=0.05, max_iter=20)"
   ]
  },
  {
   "cell_type": "code",
   "execution_count": 13,
   "metadata": {},
   "outputs": [
    {
     "data": {
      "text/plain": [
       "array([[  0.        ,   0.        ,   0.        ],\n",
       "       [-10.        , -12.90889359,   0.05654449],\n",
       "       [ 10.        ,   9.93951837,  -0.06973613],\n",
       "       [  0.        ,   0.        ,  -2.66666667],\n",
       "       [  0.        ,   0.        ,   0.        ],\n",
       "       [  0.        ,   0.        ,   1.        ],\n",
       "       [  0.        ,  -1.        ,   0.        ],\n",
       "       [  0.        ,   0.        ,   0.        ],\n",
       "       [  0.        ,   0.        ,   0.        ],\n",
       "       [  0.        ,   0.        ,   0.        ],\n",
       "       [  0.        ,   0.        ,   0.        ],\n",
       "       [  0.        ,   0.        ,   0.        ],\n",
       "       [  0.        ,   0.        ,   0.        ],\n",
       "       [  0.        ,   0.        ,   0.        ],\n",
       "       [  0.        ,   0.        ,   0.        ],\n",
       "       [  0.        ,   0.        ,   0.        ],\n",
       "       [  0.        ,   0.        ,   0.        ],\n",
       "       [  0.        ,   0.        ,   0.        ],\n",
       "       [  0.        ,   0.        ,   0.        ],\n",
       "       [  0.        ,   0.        ,   0.        ],\n",
       "       [  0.        ,   0.        ,   0.        ],\n",
       "       [  0.        ,   0.        ,   0.        ],\n",
       "       [  0.        ,   0.        ,   0.        ],\n",
       "       [  0.        ,   0.        ,   0.        ],\n",
       "       [  0.        ,   0.        ,   0.        ],\n",
       "       [  0.        ,   0.        ,   0.        ],\n",
       "       [  0.        ,   0.        ,   0.        ],\n",
       "       [  0.        ,   0.        ,   0.        ],\n",
       "       [  0.        ,   0.        ,   0.        ],\n",
       "       [  0.        ,   0.        ,   0.        ],\n",
       "       [  0.        ,   0.        ,   0.        ]])"
      ]
     },
     "execution_count": 13,
     "metadata": {},
     "output_type": "execute_result"
    }
   ],
   "source": [
    "coefficients"
   ]
  },
  {
   "cell_type": "code",
   "execution_count": null,
   "metadata": {},
   "outputs": [],
   "source": []
  }
 ],
 "metadata": {
  "kernelspec": {
   "display_name": "sindy",
   "language": "python",
   "name": "python3"
  },
  "language_info": {
   "codemirror_mode": {
    "name": "ipython",
    "version": 3
   },
   "file_extension": ".py",
   "mimetype": "text/x-python",
   "name": "python",
   "nbconvert_exporter": "python",
   "pygments_lexer": "ipython3",
   "version": "3.11.6"
  }
 },
 "nbformat": 4,
 "nbformat_minor": 2
}
